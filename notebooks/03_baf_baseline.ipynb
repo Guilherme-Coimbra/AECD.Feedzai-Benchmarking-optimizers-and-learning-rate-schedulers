{
 "cells": [
  {
   "cell_type": "markdown",
   "metadata": {},
   "source": [
    "# Benchmarking Feedforward Network on BAF Dataset\n",
    "\n",
    "Quick sanity-check notebook to ensure the reusable components under `src/` work nicely together on the Bank Account Fraud (BAF) dataset."
   ]
  },
  {
   "cell_type": "code",
   "execution_count": 24,
   "id": "1340b61e",
   "metadata": {},
   "outputs": [
    {
     "name": "stdout",
     "output_type": "stream",
     "text": [
      "Using device: cpu\n"
     ]
    }
   ],
   "source": [
    "# Device setup\n",
    "import os, torch, copy\n",
    "\n",
    "def select_device(prefer: str | None = None) -> torch.device:\n",
    "    # prefer can be: \"cuda\", \"cuda:0\", \"cpu\" (or None to auto)\n",
    "    prefer = prefer or os.environ.get(\"ACCELERATOR\")\n",
    "    if prefer:\n",
    "        prefer = prefer.lower()\n",
    "\n",
    "    # Explicit CUDA request\n",
    "    if prefer and prefer.startswith(\"cuda\"):\n",
    "        if not torch.cuda.is_available():\n",
    "            print(\"CUDA requested but unavailable. Falling back to CPU.\")\n",
    "            return torch.device(\"cpu\")\n",
    "        idx = 0\n",
    "        if \":\" in prefer:\n",
    "            _, idx_str = prefer.split(\":\")\n",
    "            idx = int(idx_str)\n",
    "        torch.cuda.set_device(idx)\n",
    "        return torch.device(f\"cuda:{idx}\")\n",
    "\n",
    "    # Auto-pick best available\n",
    "    if torch.cuda.is_available():\n",
    "        torch.cuda.set_device(0)\n",
    "        return torch.device(\"cuda:0\")\n",
    "    # Optional (Apple Silicon)\n",
    "    if getattr(torch.backends, \"mps\", None) and torch.backends.mps.is_available():\n",
    "        return torch.device(\"mps\")\n",
    "    return torch.device(\"cpu\")\n",
    "\n",
    "device = select_device()\n",
    "print(f\"Using device: {device}\")\n",
    "if device.type == \"cuda\":\n",
    "    print(f\"CUDA devices: {torch.cuda.device_count()}\")\n",
    "    print(f\"Current: {torch.cuda.current_device()} - {torch.cuda.get_device_name()}\")\n"
   ]
  },
  {
   "cell_type": "markdown",
   "id": "173156f4",
   "metadata": {},
   "source": [
    "## 1. Import BAF data"
   ]
  },
  {
   "cell_type": "code",
   "execution_count": 25,
   "id": "650918d2",
   "metadata": {},
   "outputs": [
    {
     "name": "stdout",
     "output_type": "stream",
     "text": [
      "Final numerical columns: 32\n",
      "Final categorical columns: 5\n"
     ]
    }
   ],
   "source": [
    "# ============================================================\n",
    "# Load preprocessed data splits and preprocessing objects\n",
    "# ============================================================\n",
    "import joblib\n",
    "import pandas as pd\n",
    "import torch\n",
    "from pathlib import Path\n",
    "\n",
    "from src import paths\n",
    "\n",
    "# Path setup\n",
    "DATA_DIR = paths.PROCESSED_DATA_DIR  # assuming you have this imported somewhere\n",
    "train_df = pd.read_parquet(DATA_DIR / \"train.parquet\")\n",
    "val_df   = pd.read_parquet(DATA_DIR / \"val.parquet\")\n",
    "test_df  = pd.read_parquet(DATA_DIR / \"test.parquet\")\n",
    "\n",
    "# Load preprocessing artifacts (encoders + numeric pipeline)\n",
    "encoders = joblib.load(DATA_DIR / \"label_encoders.joblib\")\n",
    "num_pipeline = joblib.load(DATA_DIR / \"num_pipeline.joblib\")  # <- instead of scaler only\n",
    "\n",
    "# ============================================================\n",
    "# Define columns\n",
    "# ============================================================\n",
    "categorical_cols = ['device_os', 'employment_status', 'housing_status', 'payment_type', 'source']\n",
    "target_col = 'fraud_bool'\n",
    "\n",
    "# The numeric columns after preprocessing (imputer + indicators)\n",
    "num_cols = [c for c in train_df.columns if c not in categorical_cols + [target_col]]\n",
    "\n",
    "print(f\"Final numerical columns: {len(num_cols)}\")\n",
    "print(f\"Final categorical columns: {len(categorical_cols)}\")\n",
    "\n",
    "# ============================================================\n",
    "# Convert to tensors\n",
    "# ============================================================\n",
    "X_train_cont = torch.tensor(train_df[num_cols].values, dtype=torch.float32)\n",
    "X_train_cat  = torch.tensor(train_df[categorical_cols].values, dtype=torch.long)\n",
    "y_train      = torch.tensor(train_df[target_col].values, dtype=torch.float32)\n",
    "\n",
    "X_val_cont = torch.tensor(val_df[num_cols].values, dtype=torch.float32)\n",
    "X_val_cat  = torch.tensor(val_df[categorical_cols].values, dtype=torch.long)\n",
    "y_val      = torch.tensor(val_df[target_col].values, dtype=torch.float32)\n",
    "\n",
    "X_test_cont = torch.tensor(test_df[num_cols].values, dtype=torch.float32)\n",
    "X_test_cat  = torch.tensor(test_df[categorical_cols].values, dtype=torch.long)\n",
    "y_test      = torch.tensor(test_df[target_col].values, dtype=torch.float32)"
   ]
  },
  {
   "cell_type": "code",
   "execution_count": 26,
   "id": "b8975d5b",
   "metadata": {},
   "outputs": [
    {
     "name": "stdout",
     "output_type": "stream",
     "text": [
      "# X train samples: 675666\n",
      "# X val samples: 227491\n",
      "# X test samples: 96843\n"
     ]
    }
   ],
   "source": [
    "print(\"# X train samples:\", X_train_cont.shape[0])\n",
    "print(\"# X val samples:\", X_val_cont.shape[0])\n",
    "print(\"# X test samples:\", X_test_cont.shape[0])"
   ]
  },
  {
   "cell_type": "markdown",
   "id": "ffcd8640",
   "metadata": {},
   "source": [
    "## Embeddings for categorical features"
   ]
  },
  {
   "cell_type": "markdown",
   "id": "68983a65",
   "metadata": {},
   "source": [
    "### Helper to get the embeddings dimension"
   ]
  },
  {
   "cell_type": "code",
   "execution_count": 27,
   "id": "cd29ea54",
   "metadata": {},
   "outputs": [],
   "source": [
    "def pick_emb_dim(C):\n",
    "    # pick one heuristic and stick to it\n",
    "    # Half rule:\n",
    "    return min(50, (C + 1) // 2)"
   ]
  },
  {
   "cell_type": "markdown",
   "id": "51105884",
   "metadata": {},
   "source": [
    "### Get the cardinality and embedding dimension of each categorical feature"
   ]
  },
  {
   "cell_type": "code",
   "execution_count": 28,
   "id": "0ba02f5b",
   "metadata": {},
   "outputs": [
    {
     "name": "stdout",
     "output_type": "stream",
     "text": [
      "Categorical columns: ['device_os', 'employment_status', 'housing_status', 'payment_type', 'source']\n",
      "Encoder classes:     dict_keys(['device_os', 'employment_status', 'housing_status', 'payment_type', 'source'])\n",
      "device_os: 5\n",
      "employment_status: 7\n",
      "housing_status: 7\n",
      "payment_type: 5\n",
      "source: 2\n",
      "Cardinality:          [5, 7, 7, 5, 2]\n",
      "Embedding dimensions: [3, 4, 4, 3, 1]\n"
     ]
    }
   ],
   "source": [
    "print(\"Categorical columns:\", categorical_cols)\n",
    "print(\"Encoder classes:    \", encoders.keys())\n",
    "cardinality = []\n",
    "emb_dims = []\n",
    "for index, col in enumerate(categorical_cols):\n",
    "    print(f\"{col}: {len(encoders[col].classes_)}\")\n",
    "    cardinality.append(len(encoders[col].classes_))\n",
    "    emb_dims.append(pick_emb_dim(len(encoders[col].classes_)))\n",
    "    \n",
    "print(\"Cardinality:         \", cardinality)\n",
    "print(\"Embedding dimensions:\", emb_dims)\n"
   ]
  },
  {
   "cell_type": "markdown",
   "id": "f390e6e1",
   "metadata": {},
   "source": [
    "### Define the embeddings layer"
   ]
  },
  {
   "cell_type": "code",
   "execution_count": 29,
   "id": "566c95d2",
   "metadata": {},
   "outputs": [],
   "source": [
    "import torch\n",
    "import torch.nn as nn\n",
    "from typing import Sequence, List, Optional\n",
    "\n",
    "class EmbeddingStack(nn.Module):\n",
    "    \"\"\"\n",
    "    Holds one nn.Embedding per categorical feature.\n",
    "    This module ONLY performs lookups and returns the per-feature embeddings.\n",
    "    \"\"\"\n",
    "    def __init__(self, cardinals: Sequence[int], emb_dims: Sequence[int]):\n",
    "        super().__init__()\n",
    "        assert len(cardinals) == len(emb_dims), \"cardinals and emb_dims must align\"\n",
    "        # No UNK now → no padding_idx\n",
    "        self.embs = nn.ModuleList([nn.Embedding(C, d) for C, d in zip(cardinals, emb_dims)])\n",
    "        self.output_dims = list(emb_dims)\n",
    "        # Each nn.Embedding holds a trainable weight matrix [num_categories, emb_dim].\n",
    "        # Gradients flow through the lookup; AdamW (below) updates these per batch.\n",
    "        # No padding_idx here; all IDs are assumed valid from label encoding.\n",
    "\n",
    "        # (Later, with UNK: nn.Embedding(C, d, padding_idx=0))\n",
    "    \n",
    "    def forward(self, x_cats: torch.LongTensor) -> List[torch.Tensor]:\n",
    "        \"\"\"\n",
    "        x_cats: [B, n_cats] with IDs in [0..C_i-1] per column i.\n",
    "        returns: list of tensors [B, d_i] (one per categorical feature).\n",
    "        \"\"\"\n",
    "        return [emb(x_cats[:, i]) for i, emb in enumerate(self.embs)]\n"
   ]
  },
  {
   "cell_type": "markdown",
   "id": "260afa49",
   "metadata": {},
   "source": [
    "### Get the embeddings per feature"
   ]
  },
  {
   "cell_type": "code",
   "execution_count": 30,
   "id": "ac75dbbc",
   "metadata": {},
   "outputs": [
    {
     "name": "stdout",
     "output_type": "stream",
     "text": [
      "EmbeddingStack(\n",
      "  (embs): ModuleList(\n",
      "    (0): Embedding(5, 3)\n",
      "    (1-2): 2 x Embedding(7, 4)\n",
      "    (3): Embedding(5, 3)\n",
      "    (4): Embedding(2, 1)\n",
      "  )\n",
      ")\n"
     ]
    }
   ],
   "source": [
    "# Instantiate embeddings; their weight matrices will receive gradients\n",
    "# from the loss and be updated by AdamW during training.\n",
    "emb_stack = EmbeddingStack(cardinality, emb_dims)\n",
    "\n",
    "print(emb_stack)\n"
   ]
  },
  {
   "cell_type": "code",
   "execution_count": 31,
   "id": "9ada29bb",
   "metadata": {},
   "outputs": [
    {
     "data": {
      "text/plain": [
       "torch.Size([675666, 1])"
      ]
     },
     "execution_count": 31,
     "metadata": {},
     "output_type": "execute_result"
    }
   ],
   "source": [
    "X_train_emb = emb_stack(X_train_cat)  # List[Tensor[B, d_i]]\n",
    "X_val_emb   = emb_stack(X_val_cat)\n",
    "\n",
    "X_train_emb[4].shape"
   ]
  },
  {
   "cell_type": "markdown",
   "id": "721bde97",
   "metadata": {},
   "source": [
    "### Concatenate embeddings and numerical features"
   ]
  },
  {
   "cell_type": "code",
   "execution_count": 32,
   "id": "30dcf8c9",
   "metadata": {},
   "outputs": [],
   "source": [
    "def concat_cat_and_num(emb_list: List[torch.Tensor],\n",
    "                       x_nums: Optional[torch.Tensor]) -> torch.Tensor:\n",
    "    \"\"\"\n",
    "    Concatenate cat embeddings and numeric features along feature dim.\n",
    "    emb_list: list of [B, d_i]\n",
    "    x_nums:   [B, n_num] or None\n",
    "    returns:  [B, sum(d_i) + n_num]\n",
    "    \"\"\"\n",
    "    parts = []\n",
    "    if emb_list:\n",
    "        parts.append(torch.cat(emb_list, dim=1))\n",
    "    if x_nums is not None and x_nums.numel() > 0:\n",
    "        parts.append(x_nums)\n",
    "    assert parts, \"No features to concatenate.\"\n",
    "    return torch.cat(parts, dim=1)"
   ]
  },
  {
   "cell_type": "code",
   "execution_count": 33,
   "id": "485fea7b",
   "metadata": {},
   "outputs": [
    {
     "data": {
      "text/plain": [
       "torch.Size([675666, 47])"
      ]
     },
     "execution_count": 33,
     "metadata": {},
     "output_type": "execute_result"
    }
   ],
   "source": [
    "X_train_all = concat_cat_and_num(X_train_emb, X_train_cont)\n",
    "X_train_all.shape"
   ]
  },
  {
   "cell_type": "markdown",
   "id": "845b07be",
   "metadata": {},
   "source": [
    "### Compute the sample feature dimension (for the FFN input)"
   ]
  },
  {
   "cell_type": "code",
   "execution_count": 34,
   "id": "ed3a3562",
   "metadata": {},
   "outputs": [
    {
     "name": "stdout",
     "output_type": "stream",
     "text": [
      "Computed input_dim (sum embeddings + numericals) = 47\n"
     ]
    }
   ],
   "source": [
    "input_dim = sum(emb_dims) + X_train_cont.shape[1]\n",
    "print(\"Computed input_dim (sum embeddings + numericals) =\", input_dim)\n",
    "# Good to sanity-check: x_all_b.shape[1] should equal input_dim\n",
    "assert X_train_all.shape[1] == input_dim"
   ]
  },
  {
   "cell_type": "code",
   "execution_count": 35,
   "id": "319b3a0f",
   "metadata": {},
   "outputs": [
    {
     "data": {
      "text/plain": [
       "tensor([-1.0353e+00, -1.0354e+00,  5.3393e-01,  4.3436e-01,  2.1974e-01,\n",
       "         1.6391e+00,  7.2293e-01,  4.3180e-01,  8.9319e-01,  1.2638e+00,\n",
       "        -1.8421e-01,  5.7202e-01,  4.6947e-01,  9.7394e-01,  1.0463e+00,\n",
       "         2.5000e-01,  9.8651e-01,  7.2581e-02,  5.8824e-02,  3.7500e-01,\n",
       "         8.7951e-05,  9.0702e-01,  1.5793e-01,  7.8346e-01,  7.9632e-01,\n",
       "         9.3713e-01,  2.1000e-03,  1.2821e-01,  4.1902e-01,  1.0000e+00,\n",
       "         0.0000e+00,  1.0000e+00,  2.5806e-01,  0.0000e+00,  6.8586e-01,\n",
       "         0.0000e+00,  1.8885e-01,  1.0000e+00,  5.0000e-01,  1.0000e+00,\n",
       "         0.0000e+00,  0.0000e+00,  0.0000e+00,  0.0000e+00,  0.0000e+00,\n",
       "         0.0000e+00,  0.0000e+00], grad_fn=<SliceBackward0>)"
      ]
     },
     "execution_count": 35,
     "metadata": {},
     "output_type": "execute_result"
    }
   ],
   "source": [
    "X_train_all[0, :]"
   ]
  },
  {
   "cell_type": "markdown",
   "id": "6aab0389",
   "metadata": {},
   "source": [
    "## Train the FFN model"
   ]
  },
  {
   "cell_type": "markdown",
   "id": "422dabe6",
   "metadata": {},
   "source": [
    "### Imports & run config (batching, steps/epoch, etc.)"
   ]
  },
  {
   "cell_type": "code",
   "execution_count": 36,
   "id": "ce15a3dd",
   "metadata": {},
   "outputs": [
    {
     "name": "stdout",
     "output_type": "stream",
     "text": [
      "{'batch_size': 512, 'pos_per_batch': 5, 'steps_per_epoch': 1000, 'epochs': 5, 'device': 'cpu'}\n"
     ]
    }
   ],
   "source": [
    "# Core\n",
    "import sys, math, itertools\n",
    "import torch\n",
    "import torch.nn as nn\n",
    "from torch.utils.data import DataLoader, BatchSampler\n",
    "\n",
    "# Project bits\n",
    "# (ensure the path that contains ffn.py / metrics.py is on sys.path if needed)\n",
    "# sys.path.append(\"/mnt/data\")  # uncomment if imports fail\n",
    "\n",
    "from src.models.ffn import FeedforwardNetwork          # residual-capable MLP\n",
    "from src.training.metrics import (                       # WBCE + metrics\n",
    "    weighted_bce_with_logits,\n",
    "    logits_to_preds, precision, recall, recall_at_FPR\n",
    ")\n",
    "\n",
    "# ---- Run config ----\n",
    "BATCH_SIZE = 512\n",
    "POS_FRAC   = 0.01                      # ~1% frauds per batch\n",
    "POS_PER_B  = max(1, int(round(BATCH_SIZE * POS_FRAC)))  # ≈5\n",
    "# Note: LR schedulers step per-batch; total steps = STEPS_PER_EPOCH * NUM_EPOCHS.\n",
    "STEPS_PER_EPOCH = 1000                 # ~1000 batches per epoch\n",
    "NUM_EPOCHS = 5                         # choose; change as you like\n",
    "\n",
    "\n",
    "print({\n",
    "    \"batch_size\": BATCH_SIZE,\n",
    "    \"pos_per_batch\": POS_PER_B,\n",
    "    \"steps_per_epoch\": STEPS_PER_EPOCH,\n",
    "    \"epochs\": NUM_EPOCHS,\n",
    "    \"device\": str(device)\n",
    "})\n"
   ]
  },
  {
   "cell_type": "markdown",
   "id": "95af3bdf",
   "metadata": {},
   "source": [
    "### Build the 3-layer FFN with different dropouts and pre1 → post2 residual"
   ]
  },
  {
   "cell_type": "code",
   "execution_count": 37,
   "id": "b8386e82",
   "metadata": {},
   "outputs": [
    {
     "name": "stdout",
     "output_type": "stream",
     "text": [
      "input_dim = 47\n",
      "FeedforwardNetwork(\n",
      "  (hidden_layers): ModuleList(\n",
      "    (0): Sequential(\n",
      "      (0): Linear(in_features=47, out_features=256, bias=True)\n",
      "      (1): ReLU()\n",
      "      (2): Dropout(p=0.2, inplace=False)\n",
      "    )\n",
      "    (1): Sequential(\n",
      "      (0): Linear(in_features=256, out_features=128, bias=True)\n",
      "      (1): ReLU()\n",
      "      (2): Dropout(p=0.3, inplace=False)\n",
      "    )\n",
      "    (2): Sequential(\n",
      "      (0): Linear(in_features=128, out_features=64, bias=True)\n",
      "      (1): ReLU()\n",
      "      (2): Dropout(p=0.15, inplace=False)\n",
      "    )\n",
      "  )\n",
      "  (output_layer): Linear(in_features=64, out_features=1, bias=True)\n",
      "  (_skip_projs): ModuleDict(\n",
      "    (proj_0): Linear(in_features=47, out_features=128, bias=False)\n",
      "  )\n",
      ")\n"
     ]
    }
   ],
   "source": [
    "# Assumptions from your previous cells:\n",
    "# - emb_stack : EmbeddingStack(...) already created\n",
    "# - emb_dims  : list[int] per categorical feature\n",
    "# - n_num     : number of numeric features\n",
    "# - A concat function: concat_cat_and_num(emb_list, x_nums) -> [B, D]\n",
    "# - Your dataloaders yield (x_cats, x_nums, y) OR you have a Dataset to do that.\n",
    "\n",
    "# Compute input dimension (sum of embedding dims + numeric)\n",
    "print(\"input_dim =\", input_dim)\n",
    "\n",
    "# Define 3 hidden layers and per-layer dropouts\n",
    "hidden_layers = [\n",
    "    {\"units\": 256, \"activation\": \"relu\", \"dropout\": 0.20}, \n",
    "    {\"units\": 128, \"activation\": \"relu\", \"dropout\": 0.30}, #NOTE: use dropout with residual is correct?????\n",
    "    {\"units\":  64, \"activation\": \"relu\", \"dropout\": 0.15},\n",
    "]\n",
    "\n",
    "# One residual: pre1 -> post2 (i.e., before layer 1 → after layer 2)\n",
    "# Residual spec: takes tensor just before layer 1 and adds it to the\n",
    "# output after layer 2 (pre1 -> post2), improving gradient flow.\n",
    "residuals = [\n",
    "    {\"from\": (\"pre\", 1), \"to\": (\"post\", 2)}\n",
    "]\n",
    "\n",
    "ffn = FeedforwardNetwork(\n",
    "    n_classes=1,                 # binary head (BCEWithLogits)\n",
    "    n_features=input_dim,\n",
    "    hidden_layers=hidden_layers,\n",
    "    residual_specs=residuals,\n",
    ")\n",
    "# Move both models to the selected device to avoid device mismatch errors\n",
    "# Ensure both modules live on the same device as the data.\n",
    "# Their parameters receive gradients and updates on this device.\n",
    "emb_stack = emb_stack.to(device)\n",
    "ffn = ffn.to(device)\n",
    "\n",
    "print(ffn)\n"
   ]
  },
  {
   "cell_type": "markdown",
   "id": "f100d848",
   "metadata": {},
   "source": [
    "### Loss: Weighted BCE (WBCE)"
   ]
  },
  {
   "cell_type": "code",
   "execution_count": 38,
   "id": "f22c4b59",
   "metadata": {},
   "outputs": [
    {
     "name": "stdout",
     "output_type": "stream",
     "text": [
      "BCEWithLogitsLoss()\n"
     ]
    }
   ],
   "source": [
    "# With ~1% positives per batch, an unbiased WBCE uses pos_weight ~= (1-p)/p = 99.\n",
    "# NOTE: If you later change the batch composition (oversampling etc.),\n",
    "# revisit this value accordingly.\n",
    "POS_WEIGHT = 99.0\n",
    "# pos_weight scales positive examples inside BCEWithLogits;\n",
    "# gradients for positive samples are amplified by POS_WEIGHT.\n",
    "\n",
    "loss_fn = weighted_bce_with_logits(pos_weight=POS_WEIGHT)  # from metrics.py\n",
    "print(loss_fn)\n"
   ]
  },
  {
   "cell_type": "markdown",
   "id": "9d8b9380",
   "metadata": {},
   "source": [
    "### Optimizers (AdamW for embeddings + output; SGD for the rest) and Schedulers"
   ]
  },
  {
   "cell_type": "code",
   "execution_count": 39,
   "id": "15095540",
   "metadata": {},
   "outputs": [
    {
     "name": "stdout",
     "output_type": "stream",
     "text": [
      "AdamW groups: 1  | SGD groups: 1\n"
     ]
    }
   ],
   "source": [
    "# Separate parameters by group:\n",
    "def param_set(params):\n",
    "    return {id(p) for p in params}\n",
    "\n",
    "# Embedding params\n",
    "# Embedding matrices (one per categorical feature)\n",
    "emb_params = list(itertools.chain.from_iterable(e.parameters() for e in emb_stack.embs))\n",
    "# Output layer params (last layer)\n",
    "# Output/classification head parameters\n",
    "out_params = list(ffn.output_layer.parameters())\n",
    "\n",
    "# Hidden layers params (all except output)\n",
    "# Hidden MLP layers parameters (all but output)\n",
    "hidden_params = list(itertools.chain.from_iterable(layer.parameters() for layer in ffn.hidden_layers))\n",
    "\n",
    "# Build disjoint groups: AdamW (embeddings + output), SGD (hidden)\n",
    "# Optimized by AdamW: embeddings + output layer\n",
    "adamw_params = emb_params + out_params\n",
    "# Optimized by SGD: hidden layers only\n",
    "sgd_params   = hidden_params\n",
    "\n",
    "# Safety assertion: no parameter should be in both groups\n",
    "assert param_set(adamw_params).isdisjoint(param_set(sgd_params)), \"Param groups overlap!\"\n",
    "\n",
    "# --- Optimizers ---\n",
    "opt_adamw = torch.optim.AdamW(adamw_params, lr=1e-3, betas=(0.9, 0.999), weight_decay=1e-2)\n",
    "opt_sgd   = torch.optim.SGD(sgd_params, lr=5e-3, momentum=0.9, nesterov=True)\n",
    "\n",
    "# --- Schedulers ---\n",
    "# We'll step per *batch*. Cosine for AdamW across the total number of steps; StepLR for SGD (decay ~once per epoch).\n",
    "# Note: LR schedulers step per-batch; total steps = STEPS_PER_EPOCH * NUM_EPOCHS.\n",
    "TOTAL_STEPS = STEPS_PER_EPOCH * NUM_EPOCHS\n",
    "\n",
    "sched_adamw = torch.optim.lr_scheduler.CosineAnnealingLR(opt_adamw, T_max=TOTAL_STEPS)\n",
    "sched_sgd   = torch.optim.lr_scheduler.StepLR(opt_sgd, step_size=STEPS_PER_EPOCH, gamma=0.9)\n",
    "\n",
    "def zero_grads():\n",
    "    # Reset accumulated gradients for both optimizers/groups\n",
    "    opt_adamw.zero_grad(set_to_none=True)\n",
    "    opt_sgd.zero_grad(set_to_none=True)\n",
    "\n",
    "def step_optimizers_and_schedulers():\n",
    "    # Apply parameter updates\n",
    "    # - AdamW updates embedding matrices and output head weights\n",
    "    # - SGD updates hidden MLP weights\n",
    "    opt_adamw.step()\n",
    "    opt_sgd.step()\n",
    "    # Per-batch LR scheduling for both optimizers\n",
    "    sched_adamw.step()\n",
    "    sched_sgd.step()\n",
    "\n",
    "print(\"AdamW groups:\", len(opt_adamw.param_groups), \" | SGD groups:\", len(opt_sgd.param_groups))\n"
   ]
  },
  {
   "cell_type": "markdown",
   "id": "70532bca",
   "metadata": {},
   "source": [
    "### Stratified batch sampler (~1% positives per batch, 512 total), ~1000 batches/epoch"
   ]
  },
  {
   "cell_type": "code",
   "execution_count": 40,
   "id": "ab9e6b72",
   "metadata": {},
   "outputs": [],
   "source": [
    "import numpy as np\n",
    "from torch.utils.data import Sampler\n",
    "\n",
    "class StratifiedBatchSampler(Sampler):\n",
    "    \"\"\"\n",
    "    Yields index lists of length `batch_size`, with approximately `pos_per_batch` positives\n",
    "    and the rest negatives, for exactly `num_batches` batches per epoch (with replacement).\n",
    "    \"\"\"\n",
    "    def __init__(self, y: np.ndarray, batch_size: int, pos_per_batch: int, num_batches: int):\n",
    "        assert batch_size > 0 and pos_per_batch >= 0\n",
    "        assert pos_per_batch <= batch_size\n",
    "        self.y = (y.astype(int)).ravel()\n",
    "        self.batch_size = batch_size\n",
    "        self.pos_per_batch = pos_per_batch\n",
    "        self.neg_per_batch = batch_size - pos_per_batch\n",
    "        self.num_batches = num_batches\n",
    "\n",
    "        self.pos_idx = np.flatnonzero(self.y == 1)\n",
    "        self.neg_idx = np.flatnonzero(self.y == 0)\n",
    "        if len(self.pos_idx) == 0 or len(self.neg_idx) == 0:\n",
    "            raise ValueError(\"Labels must contain both positive (1) and negative (0) examples.\")\n",
    "\n",
    "    def __len__(self):\n",
    "        return self.num_batches\n",
    "\n",
    "    def __iter__(self):\n",
    "        # Build class-balanced batches via sampling with replacement\n",
    "        # Ensures ~pos_per_batch positives per batch across num_batches.\n",
    "        # sample with replacement to avoid exhaustion\n",
    "        rng = np.random.default_rng()\n",
    "        for _ in range(self.num_batches):\n",
    "            pos = rng.choice(self.pos_idx, size=self.pos_per_batch, replace=True)\n",
    "            neg = rng.choice(self.neg_idx, size=self.neg_per_batch, replace=True)\n",
    "            idx = np.concatenate([pos, neg])\n",
    "            rng.shuffle(idx)\n",
    "            yield idx.tolist()\n"
   ]
  },
  {
   "cell_type": "code",
   "execution_count": 41,
   "id": "265588a7",
   "metadata": {},
   "outputs": [],
   "source": [
    "import torch\n",
    "from torch.utils.data import Dataset, DataLoader\n",
    "\n",
    "class CatsNumsDataset(Dataset):\n",
    "    def __init__(self, X_cats, X_nums, y):\n",
    "        self.x_cats = torch.as_tensor(X_cats, dtype=torch.long)      # for embeddings\n",
    "        self.x_nums = torch.as_tensor(X_nums, dtype=torch.float32)   # numeric\n",
    "        self.y      = torch.as_tensor(y, dtype=torch.long)           # labels {0,1}\n",
    "        # Labels are stored as long here but cast to float in the\n",
    "        # training loop for BCEWithLogits loss.\n",
    "\n",
    "        assert self.x_cats.shape[0] == self.x_nums.shape[0] == self.y.shape[0]\n",
    "\n",
    "    def __len__(self):\n",
    "        return self.y.shape[0]\n",
    "\n",
    "    def __getitem__(self, i):\n",
    "        return self.x_cats[i], self.x_nums[i], self.y[i]\n"
   ]
  },
  {
   "cell_type": "code",
   "execution_count": 42,
   "id": "fc63c52b",
   "metadata": {},
   "outputs": [],
   "source": [
    "# Assume: Xc_train, Xn_train, y_train, Xc_val, Xn_val, y_val already exist\n",
    "train_ds = CatsNumsDataset(X_train_cat, X_train_cont, y_train)\n",
    "val_ds   = CatsNumsDataset(X_val_cat,   X_val_cont,   y_val)\n",
    "\n",
    "# Reuse the sampler we set up earlier (≈1% positives, 512 batch, ~1000 batches/epoch)\n",
    "import numpy as np\n",
    "y_train_np = np.asarray(y_train)\n",
    "train_sampler = StratifiedBatchSampler(y_train_np, batch_size=512, pos_per_batch=max(1, int(0.01*512)), num_batches=1000)\n",
    "\n",
    "# Use custom batch_sampler for balanced class batches on train;\n",
    "# pin_memory speeds host->device transfers on CUDA; num_workers for parallel loading.\n",
    "train_loader = DataLoader(train_ds, batch_sampler=train_sampler, pin_memory=True, num_workers=2)\n",
    "val_loader   = DataLoader(val_ds, batch_size=1024, shuffle=False, pin_memory=True, num_workers=2)\n"
   ]
  },
  {
   "cell_type": "markdown",
   "id": "8d09892c",
   "metadata": {},
   "source": [
    "### Train/Val loops (two optimizers; metrics = recall & precision)"
   ]
  },
  {
   "cell_type": "code",
   "execution_count": 43,
   "id": "78c66575",
   "metadata": {},
   "outputs": [],
   "source": [
    "\n",
    "@torch.no_grad()\n",
    "# Inference mode: no gradients tracked and no parameter updates.\n",
    "def evaluate_epoch(emb_stack, ffn, loader, device,FPR=0.1):\n",
    "    # eval(): disable dropout/BN updates for deterministic evaluation\n",
    "    ffn.eval()\n",
    "    emb_stack.eval()\n",
    "    all_preds, all_targets = [], []\n",
    "    total_loss, total_n = 0.0, 0\n",
    "\n",
    "    for x_cats, x_nums, y in loader:\n",
    "        x_cats = x_cats.to(device).long()\n",
    "        x_nums = x_nums.to(device).float()\n",
    "        y      = y.to(device).float().view(-1)\n",
    "\n",
    "        emb_list = emb_stack(x_cats)\n",
    "        x_all    = concat_cat_and_num(emb_list, x_nums)\n",
    "        logits   = ffn(x_all).squeeze(1)\n",
    "\n",
    "        loss = loss_fn(logits, y)\n",
    "        total_loss += float(loss.item()) * y.size(0)\n",
    "        total_n    += y.size(0)\n",
    "\n",
    "        preds, _ = logits_to_preds(logits, task=\"binary\")\n",
    "        all_preds.append(preds.cpu())\n",
    "        all_targets.append(y.cpu().long())\n",
    "\n",
    "    if total_n == 0:\n",
    "        return {\"loss\": float(\"nan\"), \"recall\": 0.0, \"precision\": 0.0}\n",
    "\n",
    "    preds_cat   = torch.cat(all_preds)\n",
    "    targets_cat = torch.cat(all_targets)\n",
    "    return {\n",
    "        \"loss\": total_loss / total_n,\n",
    "        \"recall\": recall(preds_cat, targets_cat),\n",
    "        \"precision\": precision(preds_cat, targets_cat),\n",
    "        \"recall@FPR\": recall_at_FPR(preds_cat, targets_cat, fpr_target=FPR)\n",
    "    }\n",
    "\n",
    "\n",
    "def train_epoch(emb_stack, ffn, loader, device, log_every=100):\n",
    "    # train(): enable dropout and other train-time layers\n",
    "    # emb_stack and ffn will accumulate grads from loss.backward()\n",
    "    ffn.train()\n",
    "    emb_stack.train()\n",
    "    running_loss, seen = 0.0, 0\n",
    "    last_log = 0\n",
    "\n",
    "    for step, (x_cats, x_nums, y) in enumerate(loader, start=1):\n",
    "        x_cats = x_cats.to(device).long()\n",
    "        x_nums = x_nums.to(device).float()\n",
    "        y      = y.to(device).float().view(-1)\n",
    "\n",
    "        # forward\n",
    "        # Embedding lookups produce dense vectors; these receive gradients via backprop.\n",
    "        emb_list = emb_stack(x_cats)\n",
    "        x_all    = concat_cat_and_num(emb_list, x_nums)\n",
    "        logits   = ffn(x_all).squeeze(1)\n",
    "        loss     = loss_fn(logits, y)\n",
    "\n",
    "        # backward (two optimizers)\n",
    "        # 1) Zero grads on both optimizers\n",
    "        # 2) Backprop to compute grads for embeddings + all FFN params\n",
    "        # 3) Step optimizers to update weights; step schedulers to adjust LRs\n",
    "        zero_grads()\n",
    "        loss.backward()\n",
    "        step_optimizers_and_schedulers()\n",
    "\n",
    "        # stats\n",
    "        bs = y.size(0)\n",
    "        running_loss += float(loss.item()) * bs\n",
    "        seen += bs\n",
    "\n",
    "        if log_every and (step % log_every == 0):\n",
    "            avg = running_loss / max(seen, 1)\n",
    "            lrs = [g['lr'] for g in opt_adamw.param_groups] + [g['lr'] for g in opt_sgd.param_groups]\n",
    "            print(f\"[step {step}] loss={avg:.4f}  lrs(min/max)=({min(lrs):.2e}/{max(lrs):.2e})\")\n",
    "            last_log = step\n",
    "\n",
    "        if step >= STEPS_PER_EPOCH:\n",
    "            break\n",
    "\n",
    "    return {\"loss\": running_loss / max(seen, 1)}\n"
   ]
  },
  {
   "cell_type": "markdown",
   "id": "6f1e7f50",
   "metadata": {},
   "source": [
    "### Run "
   ]
  },
  {
   "cell_type": "code",
   "execution_count": null,
   "id": "61e2a1b6",
   "metadata": {},
   "outputs": [
    {
     "ename": "NameError",
     "evalue": "name 'defaultdict' is not defined",
     "output_type": "error",
     "traceback": [
      "\u001b[31m---------------------------------------------------------------------------\u001b[39m",
      "\u001b[31mNameError\u001b[39m                                 Traceback (most recent call last)",
      "\u001b[36mCell\u001b[39m\u001b[36m \u001b[39m\u001b[32mIn[44]\u001b[39m\u001b[32m, line 1\u001b[39m\n\u001b[32m----> \u001b[39m\u001b[32m1\u001b[39m history = \u001b[43mdefaultdict\u001b[49m(\u001b[38;5;28mlist\u001b[39m)\n\u001b[32m      2\u001b[39m tolerance = \u001b[32m10\u001b[39m\n\u001b[32m      3\u001b[39m no_improve_epochs = \u001b[32m0\u001b[39m\n",
      "\u001b[31mNameError\u001b[39m: name 'defaultdict' is not defined"
     ]
    }
   ],
   "source": [
    "from collections import defaultdict\n",
    "history = defaultdict(list)\n",
    "tolerance = 10\n",
    "no_improve_epochs = 0\n",
    "best_recall_fpr = -float(\"inf\")\n",
    "best_epoch = 0\n",
    "best_model_state = None  # will store the best model weights in memory\n",
    "\n",
    "for epoch in range(1, NUM_EPOCHS + 1):\n",
    "    print(f\"\\n=== Epoch {epoch}/{NUM_EPOCHS} ===\")\n",
    "    train_stats = train_epoch(emb_stack, ffn, train_loader, device, log_every=200)\n",
    "    val_stats   = evaluate_epoch(emb_stack, ffn, val_loader, device)\n",
    "\n",
    "    history[\"train_loss\"].append(train_stats[\"loss\"])\n",
    "    history[\"val_loss\"].append(val_stats[\"loss\"])\n",
    "    history[\"val_recall\"].append(val_stats[\"recall\"])\n",
    "    history[\"val_precision\"].append(val_stats[\"precision\"])\n",
    "    history[\"val_recall@FPR\"].append(val_stats[\"recall@FPR\"])\n",
    "\n",
    "    current_recall_fpr = val_stats[\"recall@FPR\"]\n",
    "\n",
    "    print(f\"train_loss={train_stats['loss']:.4f} | \"\n",
    "          f\"val_loss={val_stats['loss']:.4f} | \"\n",
    "          f\"val_recall={val_stats['recall']:.4f} | \"\n",
    "          f\"val_precision={val_stats['precision']:.4f} | \"\n",
    "          f\"val_recall@FPR={current_recall_fpr:.4f}\")\n",
    "\n",
    "    # --- Early stopping check ---\n",
    "    if current_recall_fpr > best_recall_fpr+1e-4:  # significant improvement NOTE: should we use this value??\n",
    "        best_recall_fpr = current_recall_fpr\n",
    "        best_epoch = epoch\n",
    "        no_improve_epochs = 0\n",
    "\n",
    "        # Save best model in memory\n",
    "        best_model_state = copy.deepcopy(ffn.state_dict())\n",
    "        print(f\"New best recall@FPR={best_recall_fpr:.4f} — model stored in memory.\")\n",
    "\n",
    "    else:\n",
    "        no_improve_epochs += 1\n",
    "        print(f\"No improvement for {no_improve_epochs}/{tolerance} epochs.\")\n",
    "\n",
    "    if no_improve_epochs >= tolerance:\n",
    "        print(f\"\\nEarly stopping triggered after {tolerance} epochs without improvement.\")\n",
    "        print(f\"Best model was from epoch {best_epoch} with recall@FPR={best_recall_fpr:.4f}\")\n",
    "        break"
   ]
  },
  {
   "cell_type": "markdown",
   "id": "plots-section-intro",
   "metadata": {},
   "source": [
    "### Plots: Loss, ROC, and Precision/Recall@k"
   ]
  },
  {
   "cell_type": "code",
   "execution_count": null,
   "id": "plot-loss-cell",
   "metadata": {},
   "outputs": [
    {
     "data": {
      "image/png": "[encoded data removed]",
      "text/plain": [
       "<Figure size 640x480 with 1 Axes>"
      ]
     },
     "metadata": {},
     "output_type": "display_data"
    }
   ],
   "source": [
    "# Plot train/val loss curves\n",
    "from src.viz.plots import plot_loss\n",
    "fig_loss = plot_loss(history, title=\"FFN Loss (Train vs Val)\")"
   ]
  },
  {
   "cell_type": "code",
   "execution_count": null,
   "id": "5a91e48e",
   "metadata": {},
   "outputs": [],
   "source": [
    "# quick plot of the recall@FPR curve\n",
    "import matplotlib.pyplot as plt\n",
    "\n",
    "plt.plot(history[\"val_recall@FPR\"], marker='o')"
   ]
  },
  {
   "cell_type": "code",
   "execution_count": null,
   "id": "collect-val-scores",
   "metadata": {},
   "outputs": [
    {
     "data": {
      "text/plain": [
       "(torch.Size([227491]), torch.Size([227491]))"
      ]
     },
     "execution_count": 28,
     "metadata": {},
     "output_type": "execute_result"
    }
   ],
   "source": [
    "# Collect validation labels and scores (logits) for ROC and @k plots\n",
    "import torch\n",
    "ffn.eval(); emb_stack.eval()\n",
    "y_true, y_scores = [], []\n",
    "with torch.no_grad():\n",
    "    for x_cats, x_nums, y in val_loader:\n",
    "        x_cats = x_cats.to(device).long()\n",
    "        x_nums = x_nums.to(device).float()\n",
    "        logits = ffn(concat_cat_and_num(emb_stack(x_cats), x_nums)).squeeze(1)\n",
    "        y_scores.append(logits.detach().cpu())\n",
    "        y_true.append(y.view(-1).cpu().long())\n",
    "y_true = torch.cat(y_true)\n",
    "y_scores = torch.cat(y_scores)\n",
    "y_true.shape, y_scores.shape"
   ]
  },
  {
   "cell_type": "code",
   "execution_count": null,
   "id": "plot-roc-and-k",
   "metadata": {},
   "outputs": [
    {
     "data": {
      "image/png": "[encoded data removed]",
      "text/plain": [
       "<Figure size 640x480 with 1 Axes>"
      ]
     },
     "metadata": {},
     "output_type": "display_data"
    },
    {
     "data": {
      "image/png": "[encoded data removed]",
      "text/plain": [
       "<Figure size 640x480 with 1 Axes>"
      ]
     },
     "metadata": {},
     "output_type": "display_data"
    }
   ],
   "source": [
    "# Plot ROC and Precision/Recall@k\n",
    "from IPython.display import display\n",
    "from src.viz.plots import plot_roc_from_scores, plot_precision_recall_k\n",
    "\n",
    "fig_roc = plot_roc_from_scores(y_true, y_scores, from_logits=True, title=\"Validation ROC\")\n",
    "\n",
    "\n",
    "# Choose k as absolute counts or fractions in (0,1]\n",
    "ks = [50, 100, 250, 500]  # e.g., top-50/100/250/500\n",
    "fig_k = plot_precision_recall_k(y_true, y_scores, ks, from_logits=True, title=\"Val Precision/Recall @k\")"
   ]
  }
 ],
 "metadata": {
  "kernelspec": {
   "display_name": ".venv (3.13.3)",
   "language": "python",
   "name": "python3"
  },
  "language_info": {
   "codemirror_mode": {
    "name": "ipython",
    "version": 3
   },
   "file_extension": ".py",
   "mimetype": "text/x-python",
   "name": "python",
   "nbconvert_exporter": "python",
   "pygments_lexer": "ipython3",
   "version": "3.13.3"
  }
 },
 "nbformat": 4,
 "nbformat_minor": 5
}
