{
 "cells": [
  {
   "cell_type": "markdown",
   "id": "1524c8e7",
   "metadata": {},
   "source": [
    "# Preparation of data\n",
    "\n",
    "Here we will procede to prepare the data to be fed into our models."
   ]
  },
  {
   "cell_type": "markdown",
   "id": "a2f98b68",
   "metadata": {},
   "source": [
    "## Imports"
   ]
  },
  {
   "cell_type": "code",
   "execution_count": 1,
   "id": "d7baddb3",
   "metadata": {},
   "outputs": [],
   "source": [
    "import os\n",
    "from pathlib import Path\n",
    "\n",
    "import pandas as pd\n",
    "import pandas.api.types as pdt\n",
    "import numpy as np\n",
    "import matplotlib.pyplot as plt\n",
    "from sklearn.preprocessing import LabelEncoder, StandardScaler\n",
    "import joblib \n",
    "\n",
    "from src import paths, utils\n",
    "from src.io_ops import read_csv_safely\n",
    "\n",
    "\n",
    "import scipy.stats as stats"
   ]
  },
  {
   "cell_type": "markdown",
   "id": "6b6f6dd7",
   "metadata": {},
   "source": [
    "## Load the data"
   ]
  },
  {
   "cell_type": "code",
   "execution_count": 2,
   "id": "1b9d84ba",
   "metadata": {},
   "outputs": [
    {
     "data": {
      "text/plain": [
       "Index(['fraud_bool', 'income', 'name_email_similarity',\n",
       "       'prev_address_months_count', 'current_address_months_count',\n",
       "       'customer_age', 'days_since_request', 'intended_balcon_amount',\n",
       "       'payment_type', 'zip_count_4w', 'velocity_6h', 'velocity_24h',\n",
       "       'velocity_4w', 'bank_branch_count_8w',\n",
       "       'date_of_birth_distinct_emails_4w', 'employment_status',\n",
       "       'credit_risk_score', 'email_is_free', 'housing_status',\n",
       "       'phone_home_valid', 'phone_mobile_valid', 'bank_months_count',\n",
       "       'has_other_cards', 'proposed_credit_limit', 'foreign_request', 'source',\n",
       "       'session_length_in_minutes', 'device_os', 'keep_alive_session',\n",
       "       'device_distinct_emails_8w', 'device_fraud_count', 'month'],\n",
       "      dtype='object')"
      ]
     },
     "execution_count": 2,
     "metadata": {},
     "output_type": "execute_result"
    }
   ],
   "source": [
    "BASE_PATH = paths.RAW_DATA_DIR / \"Base.csv\"\n",
    "\n",
    "df_base = read_csv_safely(BASE_PATH)\n",
    "df_base.columns"
   ]
  },
  {
   "cell_type": "markdown",
   "id": "3b30ad5c",
   "metadata": {},
   "source": [
    "## Remove unwanted columns\n",
    "\n",
    "As we checked in notebook 01 columns \"device_fraud_count\" is constant and so irrelevant for our model. We will remove it."
   ]
  },
  {
   "cell_type": "code",
   "execution_count": 3,
   "id": "ea8e785b",
   "metadata": {},
   "outputs": [
    {
     "data": {
      "text/plain": [
       "Index(['fraud_bool', 'income', 'name_email_similarity',\n",
       "       'prev_address_months_count', 'current_address_months_count',\n",
       "       'customer_age', 'days_since_request', 'intended_balcon_amount',\n",
       "       'payment_type', 'zip_count_4w', 'velocity_6h', 'velocity_24h',\n",
       "       'velocity_4w', 'bank_branch_count_8w',\n",
       "       'date_of_birth_distinct_emails_4w', 'employment_status',\n",
       "       'credit_risk_score', 'email_is_free', 'housing_status',\n",
       "       'phone_home_valid', 'phone_mobile_valid', 'bank_months_count',\n",
       "       'has_other_cards', 'proposed_credit_limit', 'foreign_request', 'source',\n",
       "       'session_length_in_minutes', 'device_os', 'keep_alive_session',\n",
       "       'device_distinct_emails_8w', 'month'],\n",
       "      dtype='object')"
      ]
     },
     "execution_count": 3,
     "metadata": {},
     "output_type": "execute_result"
    }
   ],
   "source": [
    "\n",
    "df_base.drop(columns=[\"device_fraud_count\"], inplace=True)\n",
    "df_base.columns"
   ]
  },
  {
   "cell_type": "markdown",
   "id": "dc5fe596",
   "metadata": {},
   "source": [
    "## Train, Test, Val split.\n",
    "\n",
    "We will divide the data in 3 splits using the month as an index for this division. We will first separate the categorical columns as they will have to be treated differently when fed into the model."
   ]
  },
  {
   "cell_type": "code",
   "execution_count": 4,
   "id": "dd09e93c",
   "metadata": {},
   "outputs": [
    {
     "name": "stdout",
     "output_type": "stream",
     "text": [
      "Numerical columns size: 24\n"
     ]
    }
   ],
   "source": [
    "categorical_cols = ['device_os', 'employment_status', 'housing_status', 'payment_type', 'source']\n",
    "target_col = 'fraud_bool'\n",
    "index_col = 'month'\n",
    "num_cols = [c for c in df_base.columns if c not in categorical_cols + [target_col, index_col]]\n",
    "print(f\"Numerical columns size: {len(num_cols)}\")"
   ]
  },
  {
   "cell_type": "code",
   "execution_count": 5,
   "id": "55f85483",
   "metadata": {},
   "outputs": [],
   "source": [
    "train_df = df_base[df_base[index_col].between(0, 4)].copy()\n",
    "val_df   = df_base[df_base[index_col].between(5, 6)].copy()\n",
    "test_df  = df_base[df_base[index_col] == 7].copy()"
   ]
  },
  {
   "cell_type": "markdown",
   "id": "68129a17",
   "metadata": {},
   "source": [
    "encoding categorical columns and scaling numerical columns."
   ]
  },
  {
   "cell_type": "code",
   "execution_count": 6,
   "id": "c47482d3",
   "metadata": {},
   "outputs": [],
   "source": [
    "# here we generate a new encoder for each categorical column\n",
    "# and we save it in a dictionary to be used later if needed.\n",
    "encoders = {}\n",
    "for col in categorical_cols:\n",
    "    le = LabelEncoder()\n",
    "    train_df[col] = le.fit_transform(train_df[col].astype(str))\n",
    "    val_df[col]   = val_df[col].map(lambda x: le.transform([x])[0] if x in le.classes_ else -1)\n",
    "    test_df[col]  = test_df[col].map(lambda x: le.transform([x])[0] if x in le.classes_ else -1)\n",
    "    encoders[col] = le"
   ]
  },
  {
   "cell_type": "code",
   "execution_count": 7,
   "id": "50742da1",
   "metadata": {},
   "outputs": [],
   "source": [
    "# scaling done with minmax\n",
    "\n",
    "scaler = StandardScaler()\n",
    "train_df[num_cols] = scaler.fit_transform(train_df[num_cols])\n",
    "val_df[num_cols]   = scaler.transform(val_df[num_cols])\n",
    "test_df[num_cols]  = scaler.transform(test_df[num_cols])\n"
   ]
  },
  {
   "cell_type": "code",
   "execution_count": 8,
   "id": "10e09249",
   "metadata": {},
   "outputs": [],
   "source": [
    "# we do not need the month column anymore\n",
    "train_df = train_df.drop(columns=[index_col])\n",
    "val_df = val_df.drop(columns=[index_col])\n",
    "test_df = test_df.drop(columns=[index_col])"
   ]
  },
  {
   "cell_type": "code",
   "execution_count": 9,
   "id": "be386d52",
   "metadata": {},
   "outputs": [
    {
     "data": {
      "application/vnd.microsoft.datawrangler.viewer.v0+json": {
       "columns": [
        {
         "name": "index",
         "rawType": "int64",
         "type": "integer"
        },
        {
         "name": "fraud_bool",
         "rawType": "int64",
         "type": "integer"
        },
        {
         "name": "income",
         "rawType": "float64",
         "type": "float"
        },
        {
         "name": "name_email_similarity",
         "rawType": "float64",
         "type": "float"
        },
        {
         "name": "prev_address_months_count",
         "rawType": "float64",
         "type": "float"
        },
        {
         "name": "current_address_months_count",
         "rawType": "float64",
         "type": "float"
        },
        {
         "name": "customer_age",
         "rawType": "float64",
         "type": "float"
        },
        {
         "name": "days_since_request",
         "rawType": "float64",
         "type": "float"
        },
        {
         "name": "intended_balcon_amount",
         "rawType": "float64",
         "type": "float"
        },
        {
         "name": "payment_type",
         "rawType": "int64",
         "type": "integer"
        },
        {
         "name": "zip_count_4w",
         "rawType": "float64",
         "type": "float"
        },
        {
         "name": "velocity_6h",
         "rawType": "float64",
         "type": "float"
        },
        {
         "name": "velocity_24h",
         "rawType": "float64",
         "type": "float"
        },
        {
         "name": "velocity_4w",
         "rawType": "float64",
         "type": "float"
        },
        {
         "name": "bank_branch_count_8w",
         "rawType": "float64",
         "type": "float"
        },
        {
         "name": "date_of_birth_distinct_emails_4w",
         "rawType": "float64",
         "type": "float"
        },
        {
         "name": "employment_status",
         "rawType": "int64",
         "type": "integer"
        },
        {
         "name": "credit_risk_score",
         "rawType": "float64",
         "type": "float"
        },
        {
         "name": "email_is_free",
         "rawType": "float64",
         "type": "float"
        },
        {
         "name": "housing_status",
         "rawType": "int64",
         "type": "integer"
        },
        {
         "name": "phone_home_valid",
         "rawType": "float64",
         "type": "float"
        },
        {
         "name": "phone_mobile_valid",
         "rawType": "float64",
         "type": "float"
        },
        {
         "name": "bank_months_count",
         "rawType": "float64",
         "type": "float"
        },
        {
         "name": "has_other_cards",
         "rawType": "float64",
         "type": "float"
        },
        {
         "name": "proposed_credit_limit",
         "rawType": "float64",
         "type": "float"
        },
        {
         "name": "foreign_request",
         "rawType": "float64",
         "type": "float"
        },
        {
         "name": "source",
         "rawType": "int64",
         "type": "integer"
        },
        {
         "name": "session_length_in_minutes",
         "rawType": "float64",
         "type": "float"
        },
        {
         "name": "device_os",
         "rawType": "int64",
         "type": "integer"
        },
        {
         "name": "keep_alive_session",
         "rawType": "float64",
         "type": "float"
        },
        {
         "name": "device_distinct_emails_8w",
         "rawType": "float64",
         "type": "float"
        }
       ],
       "ref": "1f9acdfb-0ac7-4d35-9cd7-71d64f4dd0fb",
       "rows": [
        [
         "0",
         "0",
         "-0.8259766677852073",
         "1.658175924545024",
         "-0.40986734333745856",
         "-0.6804415251911029",
         "0.5221903463740003",
         "-0.2055656362350309",
         "4.546606456501552",
         "0",
         "-0.6302707016196419",
         "2.204494526523763",
         "1.931043894879949",
         "2.088401310247427",
         "-0.39919381694366723",
         "-0.9914775493064396",
         "1",
         "0.534779821628091",
         "0.9113436906290502",
         "2",
         "-0.794344845008752",
         "0.36885016112497054",
         "-0.1556141442039884",
         "-0.5239986357153209",
         "1.9075316704693728",
         "-0.16437199719876766",
         "0",
         "0.9929097903798217",
         "0",
         "0.8775260388937339",
         "-0.11390230416033728"
        ],
        [
         "1",
         "0",
         "0.8835116758048116",
         "0.3912890888671673",
         "-0.40986734333745856",
         "0.024036373221252023",
         "-1.1313288029946589",
         "-0.20495654082709563",
         "-0.48550903303774723",
         "3",
         "-0.0662906622502886",
         "0.9305597472854998",
         "0.3640572658824288",
         "0.9355578456824385",
         "-0.403488181661276",
         "1.4724670050884319",
         "0",
         "0.4092955993880441",
         "0.9113436906290502",
         "2",
         "1.2588990868178698",
         "0.36885016112497054",
         "-0.7324351840806341",
         "-0.5239986357153209",
         "1.9075316704693728",
         "-0.16437199719876766",
         "0",
         "-0.5468603477455248",
         "2",
         "0.8775260388937339",
         "-0.11390230416033728"
        ],
        [
         "2",
         "0",
         "0.8835116758048116",
         "1.6931903782306261",
         "-0.18774696140112726",
         "-0.8015236639807264",
         "0.5221903463740003",
         "-0.20455384123200396",
         "-0.5167254091709123",
         "1",
         "-0.596375407099948",
         "-0.6325401624302504",
         "0.16070541041853023",
         "1.0088553797643554",
         "-0.3777219933556237",
         "0.14572762964503955",
         "0",
         "-0.4969793390122946",
         "0.9113436906290502",
         "2",
         "-0.794344845008752",
         "0.36885016112497054",
         "1.574848975425949",
         "-0.5239986357153209",
         "-0.6591907132384892",
         "-0.16437199719876766",
         "0",
         "1.7718006170551286",
         "3",
         "-1.1395673241339537",
         "-0.11390230416033728"
        ],
        [
         "3",
         "0",
         "0.19971633836880429",
         "-0.09725231984012919",
         "-0.143322885013861",
         "-0.8015236639807264",
         "-0.30456922831032923",
         "-0.2055193258523029",
         "-0.5348811350543308",
         "1",
         "1.6520124627064225",
         "2.643955744089447",
         "1.1157310903399191",
         "0.9768542558709457",
         "-0.3863107227908411",
         "0.5247960226288659",
         "0",
         "-0.4830366476522893",
         "0.9113436906290502",
         "2",
         "-0.794344845008752",
         "0.36885016112497054",
         "-0.8148381897772978",
         "-0.5239986357153209",
         "-0.6591907132384892",
         "-0.16437199719876766",
         "0",
         "0.8721049256803706",
         "0",
         "0.8775260388937339",
         "-0.11390230416033728"
        ],
        [
         "4",
         "0",
         "1.2254093445228154",
         "1.163203928809315",
         "-0.40986734333745856",
         "-0.6364116565403307",
         "0.5221903463740003",
         "0.8343168865156214",
         "1.8527700174524993",
         "0",
         "0.5748953257472568",
         "0.3970807675013138",
         "-0.09822016922278529",
         "0.9342174290000711",
         "-0.40778254637888467",
         "-0.8019433528145264",
         "0",
         "-0.4690939562922841",
         "-1.097280872499107",
         "2",
         "1.2588990868178698",
         "0.36885016112497054",
         "1.2452369526392941",
         "-0.5239986357153209",
         "-0.6591907132384892",
         "-0.16437199719876766",
         "0",
         "-0.5014616696440415",
         "2",
         "-1.1395673241339537",
         "-0.11390230416033728"
        ]
       ],
       "shape": {
        "columns": 30,
        "rows": 5
       }
      },
      "text/html": [
       "<div>\n",
       "<style scoped>\n",
       "    .dataframe tbody tr th:only-of-type {\n",
       "        vertical-align: middle;\n",
       "    }\n",
       "\n",
       "    .dataframe tbody tr th {\n",
       "        vertical-align: top;\n",
       "    }\n",
       "\n",
       "    .dataframe thead th {\n",
       "        text-align: right;\n",
       "    }\n",
       "</style>\n",
       "<table border=\"1\" class=\"dataframe\">\n",
       "  <thead>\n",
       "    <tr style=\"text-align: right;\">\n",
       "      <th></th>\n",
       "      <th>fraud_bool</th>\n",
       "      <th>income</th>\n",
       "      <th>name_email_similarity</th>\n",
       "      <th>prev_address_months_count</th>\n",
       "      <th>current_address_months_count</th>\n",
       "      <th>customer_age</th>\n",
       "      <th>days_since_request</th>\n",
       "      <th>intended_balcon_amount</th>\n",
       "      <th>payment_type</th>\n",
       "      <th>zip_count_4w</th>\n",
       "      <th>...</th>\n",
       "      <th>phone_mobile_valid</th>\n",
       "      <th>bank_months_count</th>\n",
       "      <th>has_other_cards</th>\n",
       "      <th>proposed_credit_limit</th>\n",
       "      <th>foreign_request</th>\n",
       "      <th>source</th>\n",
       "      <th>session_length_in_minutes</th>\n",
       "      <th>device_os</th>\n",
       "      <th>keep_alive_session</th>\n",
       "      <th>device_distinct_emails_8w</th>\n",
       "    </tr>\n",
       "  </thead>\n",
       "  <tbody>\n",
       "    <tr>\n",
       "      <th>0</th>\n",
       "      <td>0</td>\n",
       "      <td>-0.825977</td>\n",
       "      <td>1.658176</td>\n",
       "      <td>-0.409867</td>\n",
       "      <td>-0.680442</td>\n",
       "      <td>0.522190</td>\n",
       "      <td>-0.205566</td>\n",
       "      <td>4.546606</td>\n",
       "      <td>0</td>\n",
       "      <td>-0.630271</td>\n",
       "      <td>...</td>\n",
       "      <td>0.36885</td>\n",
       "      <td>-0.155614</td>\n",
       "      <td>-0.523999</td>\n",
       "      <td>1.907532</td>\n",
       "      <td>-0.164372</td>\n",
       "      <td>0</td>\n",
       "      <td>0.992910</td>\n",
       "      <td>0</td>\n",
       "      <td>0.877526</td>\n",
       "      <td>-0.113902</td>\n",
       "    </tr>\n",
       "    <tr>\n",
       "      <th>1</th>\n",
       "      <td>0</td>\n",
       "      <td>0.883512</td>\n",
       "      <td>0.391289</td>\n",
       "      <td>-0.409867</td>\n",
       "      <td>0.024036</td>\n",
       "      <td>-1.131329</td>\n",
       "      <td>-0.204957</td>\n",
       "      <td>-0.485509</td>\n",
       "      <td>3</td>\n",
       "      <td>-0.066291</td>\n",
       "      <td>...</td>\n",
       "      <td>0.36885</td>\n",
       "      <td>-0.732435</td>\n",
       "      <td>-0.523999</td>\n",
       "      <td>1.907532</td>\n",
       "      <td>-0.164372</td>\n",
       "      <td>0</td>\n",
       "      <td>-0.546860</td>\n",
       "      <td>2</td>\n",
       "      <td>0.877526</td>\n",
       "      <td>-0.113902</td>\n",
       "    </tr>\n",
       "    <tr>\n",
       "      <th>2</th>\n",
       "      <td>0</td>\n",
       "      <td>0.883512</td>\n",
       "      <td>1.693190</td>\n",
       "      <td>-0.187747</td>\n",
       "      <td>-0.801524</td>\n",
       "      <td>0.522190</td>\n",
       "      <td>-0.204554</td>\n",
       "      <td>-0.516725</td>\n",
       "      <td>1</td>\n",
       "      <td>-0.596375</td>\n",
       "      <td>...</td>\n",
       "      <td>0.36885</td>\n",
       "      <td>1.574849</td>\n",
       "      <td>-0.523999</td>\n",
       "      <td>-0.659191</td>\n",
       "      <td>-0.164372</td>\n",
       "      <td>0</td>\n",
       "      <td>1.771801</td>\n",
       "      <td>3</td>\n",
       "      <td>-1.139567</td>\n",
       "      <td>-0.113902</td>\n",
       "    </tr>\n",
       "    <tr>\n",
       "      <th>3</th>\n",
       "      <td>0</td>\n",
       "      <td>0.199716</td>\n",
       "      <td>-0.097252</td>\n",
       "      <td>-0.143323</td>\n",
       "      <td>-0.801524</td>\n",
       "      <td>-0.304569</td>\n",
       "      <td>-0.205519</td>\n",
       "      <td>-0.534881</td>\n",
       "      <td>1</td>\n",
       "      <td>1.652012</td>\n",
       "      <td>...</td>\n",
       "      <td>0.36885</td>\n",
       "      <td>-0.814838</td>\n",
       "      <td>-0.523999</td>\n",
       "      <td>-0.659191</td>\n",
       "      <td>-0.164372</td>\n",
       "      <td>0</td>\n",
       "      <td>0.872105</td>\n",
       "      <td>0</td>\n",
       "      <td>0.877526</td>\n",
       "      <td>-0.113902</td>\n",
       "    </tr>\n",
       "    <tr>\n",
       "      <th>4</th>\n",
       "      <td>0</td>\n",
       "      <td>1.225409</td>\n",
       "      <td>1.163204</td>\n",
       "      <td>-0.409867</td>\n",
       "      <td>-0.636412</td>\n",
       "      <td>0.522190</td>\n",
       "      <td>0.834317</td>\n",
       "      <td>1.852770</td>\n",
       "      <td>0</td>\n",
       "      <td>0.574895</td>\n",
       "      <td>...</td>\n",
       "      <td>0.36885</td>\n",
       "      <td>1.245237</td>\n",
       "      <td>-0.523999</td>\n",
       "      <td>-0.659191</td>\n",
       "      <td>-0.164372</td>\n",
       "      <td>0</td>\n",
       "      <td>-0.501462</td>\n",
       "      <td>2</td>\n",
       "      <td>-1.139567</td>\n",
       "      <td>-0.113902</td>\n",
       "    </tr>\n",
       "  </tbody>\n",
       "</table>\n",
       "<p>5 rows × 30 columns</p>\n",
       "</div>"
      ],
      "text/plain": [
       "   fraud_bool    income  name_email_similarity  prev_address_months_count  \\\n",
       "0           0 -0.825977               1.658176                  -0.409867   \n",
       "1           0  0.883512               0.391289                  -0.409867   \n",
       "2           0  0.883512               1.693190                  -0.187747   \n",
       "3           0  0.199716              -0.097252                  -0.143323   \n",
       "4           0  1.225409               1.163204                  -0.409867   \n",
       "\n",
       "   current_address_months_count  customer_age  days_since_request  \\\n",
       "0                     -0.680442      0.522190           -0.205566   \n",
       "1                      0.024036     -1.131329           -0.204957   \n",
       "2                     -0.801524      0.522190           -0.204554   \n",
       "3                     -0.801524     -0.304569           -0.205519   \n",
       "4                     -0.636412      0.522190            0.834317   \n",
       "\n",
       "   intended_balcon_amount  payment_type  zip_count_4w  ...  \\\n",
       "0                4.546606             0     -0.630271  ...   \n",
       "1               -0.485509             3     -0.066291  ...   \n",
       "2               -0.516725             1     -0.596375  ...   \n",
       "3               -0.534881             1      1.652012  ...   \n",
       "4                1.852770             0      0.574895  ...   \n",
       "\n",
       "   phone_mobile_valid  bank_months_count  has_other_cards  \\\n",
       "0             0.36885          -0.155614        -0.523999   \n",
       "1             0.36885          -0.732435        -0.523999   \n",
       "2             0.36885           1.574849        -0.523999   \n",
       "3             0.36885          -0.814838        -0.523999   \n",
       "4             0.36885           1.245237        -0.523999   \n",
       "\n",
       "   proposed_credit_limit  foreign_request  source  session_length_in_minutes  \\\n",
       "0               1.907532        -0.164372       0                   0.992910   \n",
       "1               1.907532        -0.164372       0                  -0.546860   \n",
       "2              -0.659191        -0.164372       0                   1.771801   \n",
       "3              -0.659191        -0.164372       0                   0.872105   \n",
       "4              -0.659191        -0.164372       0                  -0.501462   \n",
       "\n",
       "   device_os  keep_alive_session  device_distinct_emails_8w  \n",
       "0          0            0.877526                  -0.113902  \n",
       "1          2            0.877526                  -0.113902  \n",
       "2          3           -1.139567                  -0.113902  \n",
       "3          0            0.877526                  -0.113902  \n",
       "4          2           -1.139567                  -0.113902  \n",
       "\n",
       "[5 rows x 30 columns]"
      ]
     },
     "execution_count": 9,
     "metadata": {},
     "output_type": "execute_result"
    }
   ],
   "source": [
    "train_df.head()"
   ]
  },
  {
   "cell_type": "markdown",
   "id": "a87abeba",
   "metadata": {},
   "source": [
    "## Extracting the splits"
   ]
  },
  {
   "cell_type": "code",
   "execution_count": 10,
   "id": "b67b8ebf",
   "metadata": {},
   "outputs": [],
   "source": [
    "train_df.to_parquet(paths.PROCESSED_DATA_DIR / \"train.parquet\", index=False)\n",
    "val_df.to_parquet(paths.PROCESSED_DATA_DIR / \"val.parquet\", index=False)\n",
    "test_df.to_parquet(paths.PROCESSED_DATA_DIR / \"test.parquet\", index=False)"
   ]
  },
  {
   "cell_type": "markdown",
   "id": "c0e97229",
   "metadata": {},
   "source": [
    "## Extra"
   ]
  },
  {
   "cell_type": "code",
   "execution_count": 11,
   "id": "eb4ce7ef",
   "metadata": {},
   "outputs": [],
   "source": [
    "#If we want we can save the encoders and scaler for later use\n",
    "#joblib.dump(encoders, paths.PROCESSED_DATA_DIR / \"label_encoders.joblib\")\n",
    "#joblib.dump(scaler, paths.PROCESSED_DATA_DIR / \"scaler.joblib\")"
   ]
  },
  {
   "cell_type": "code",
   "execution_count": 13,
   "id": "6c31f593",
   "metadata": {},
   "outputs": [],
   "source": [
    "# to then load up our splits we can add this code to beggining of any script were we need the data\n",
    "import joblib, pandas as pd\n",
    "import torch\n",
    "#encoders = joblib.load(\"label_encoders.pkl\")\n",
    "#scaler = joblib.load(\"scaler.pkl\")\n",
    "\n",
    "train_df = pd.read_parquet(paths.PROCESSED_DATA_DIR / \"train.parquet\")\n",
    "val_df = pd.read_parquet(paths.PROCESSED_DATA_DIR / \"val.parquet\")\n",
    "test_df = pd.read_parquet(paths.PROCESSED_DATA_DIR / \"test.parquet\")\n",
    "\n",
    "categorical_cols = ['device_os', 'employment_status', 'housing_status', 'payment_type', 'source']\n",
    "target_col = 'fraud_bool'\n",
    "num_cols = [c for c in train_df.columns if c not in categorical_cols + [target_col]]\n",
    "\n",
    "# Then prepare tensors:\n",
    "\n",
    "X_train_cont = torch.tensor(train_df[num_cols].values, dtype=torch.float32)\n",
    "X_train_cat = torch.tensor(train_df[categorical_cols].values, dtype=torch.long)\n",
    "y_train = torch.tensor(train_df[target_col].values, dtype=torch.float32)\n",
    "X_val_cont = torch.tensor(val_df[num_cols].values, dtype=torch.float32)\n",
    "X_val_cat = torch.tensor(val_df[categorical_cols].values, dtype=torch.long)\n",
    "y_val = torch.tensor(val_df[target_col].values, dtype=torch.float32)\n",
    "X_test_cont = torch.tensor(test_df[num_cols].values, dtype=torch.float32)\n",
    "X_test_cat = torch.tensor(test_df[categorical_cols].values, dtype=torch.long)\n",
    "y_test = torch.tensor(test_df[target_col].values, dtype=torch.float32)\n"
   ]
  },
  {
   "cell_type": "code",
   "execution_count": 14,
   "id": "88cefc30",
   "metadata": {},
   "outputs": [
    {
     "data": {
      "text/plain": [
       "(torch.Size([675666, 24]), torch.Size([675666, 5]), torch.Size([675666]))"
      ]
     },
     "execution_count": 14,
     "metadata": {},
     "output_type": "execute_result"
    }
   ],
   "source": [
    "X_train_cont.shape, X_train_cat.shape, y_train.shape"
   ]
  }
 ],
 "metadata": {
  "kernelspec": {
   "display_name": ".venv (3.13.3)",
   "language": "python",
   "name": "python3"
  },
  "language_info": {
   "codemirror_mode": {
    "name": "ipython",
    "version": 3
   },
   "file_extension": ".py",
   "mimetype": "text/x-python",
   "name": "python",
   "nbconvert_exporter": "python",
   "pygments_lexer": "ipython3",
   "version": "3.13.3"
  }
 },
 "nbformat": 4,
 "nbformat_minor": 5
}
